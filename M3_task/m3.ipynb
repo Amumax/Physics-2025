{
 "cells": [
  {
   "cell_type": "markdown",
   "id": "c43b632d",
   "metadata": {},
   "source": [
    "Считаем что задаем прямые парметрическим уравнением\n",
    "В трёхмерном пространстве прямая может быть задана в параметрической форме следующим образом:\n",
    "\n",
    "$$\n",
    "v = P + td \n",
    "$$\n",
    "\n",
    "где:\n",
    "- **P** = (x₀, y₀, z₀) – точка, через которую проходит прямая;\n",
    "- **d** = (n, m, p) – направляющий вектор прямой;\n",
    "- **t** – параметр, принимающий любые значения из $\\mathbb{R}$.\n",
    "- **v** – координаты точки на прямой из $\\mathbb{R}^3$.\n",
    "\n",
    "Таким образом, координаты точки на прямой можно записать как:\n",
    "$$\n",
    "\\begin{cases}\n",
    "x = x_0 + t n, \\\\\n",
    "y = y_0 + t m, \\\\\n",
    "z = z_0 + t p, \\\\\n",
    "\\end{cases}\n",
    "$$\n",
    "\n",
    "Найти пересечение прямых можно решив систему вида \n",
    "$$\n",
    "\\begin{cases} \n",
    "x_{01} + t n_{1} = x_{02} + s n_{2} \\\\ \n",
    "y_{01} + t m_{1} = y_{02} + s m_{2} \\\\ \n",
    "z_{01} + t p_{1} = z_{02} + s p_{2} \n",
    "\\end{cases}\n",
    "$$"
   ]
  },
  {
   "cell_type": "code",
   "execution_count": 159,
   "id": "b16d7877",
   "metadata": {},
   "outputs": [],
   "source": [
    "from matplotlib import lines\n",
    "import numpy as np\n",
    "import matplotlib.pyplot as plt\n",
    "from PIL import Image\n",
    "\n",
    "H_out = 32 # считаем осью OY\n",
    "W_out = 32 # считаем осью OX\n"
   ]
  },
  {
   "cell_type": "code",
   "execution_count": 160,
   "id": "d0672bcc",
   "metadata": {},
   "outputs": [],
   "source": [
    "class Line:\n",
    "    def __init__(self, x0, y0, z0, m, n, p):\n",
    "        self.offset = np.array([x0, y0, z0], dtype=float)\n",
    "        self.multiply = np.array([m, n, p], dtype=float)\n",
    "\n",
    "    def get_dot(self, t):\n",
    "        return self.offset + t * self.multiply\n",
    "\n",
    "    def intersection(self, other):\n",
    "        A = np.array([self.multiply, -other.multiply, np.cross(self.multiply, other.multiply)]).T\n",
    "        B = np.array(other.offset) - np.array(self.offset)\n",
    "        try:\n",
    "            t, s, _ = np.linalg.solve(A, B)\n",
    "        except np.linalg.LinAlgError:\n",
    "            return None\n",
    "        \n",
    "        return self.get_dot(t)\n",
    "    \n",
    "def make_lines_two_points(point_1, point_2):\n",
    "    return Line(*point_1, *(point_2 - point_1))"
   ]
  },
  {
   "cell_type": "code",
   "execution_count": 161,
   "id": "0d06142d",
   "metadata": {},
   "outputs": [
    {
     "name": "stdout",
     "output_type": "stream",
     "text": [
      "[1.5 1.5 1.5]\n"
     ]
    }
   ],
   "source": [
    "# Пример \n",
    "\n",
    "l1 = Line(0, 0, 0, 1, 1, 1)\n",
    "\n",
    "l2 = Line(2, 2, 1, 1, 0, 0)\n",
    "\n",
    "l1.intersection(l2)\n",
    "\n",
    "print(l1.intersection(l2))"
   ]
  },
  {
   "cell_type": "markdown",
   "id": "12c6ffcb",
   "metadata": {},
   "source": [
    "Уравнение плоскости задается как:\n",
    "$$ \n",
    "Ax + By + Cz + D = 0 \n",
    "$$\n",
    "\n",
    "Параметрическое уравнение прямой:\n",
    "$$ \n",
    "\\mathbf{r}(t) = \\mathbf{p} + t\\mathbf{d} \n",
    "$$\n",
    "где $\\mathbf{p} = (x_0, y_0, z_0)$ — точка на прямой, $\\mathbf{d} = (d_x, d_y, d_z)$ — направляющий вектор прямой.\n",
    "\n",
    "Подставляя параметры прямой в уравнение плоскости:\n",
    "$$ \n",
    "A(x_0 + td_x) + B(y_0 + td_y) + C(z_0 + td_z) + D = 0 \n",
    "$$\n",
    "\n",
    "Распределяем и группируем члены:\n",
    "$$ \n",
    "A x_0 + A t d_x + B y_0 + B t d_y + C z_0 + C t d_z + D = 0 \n",
    "$$\n",
    "\n",
    "$$ \n",
    "A t d_x + B t d_y + C t d_z = - (A x_0 + B y_0 + C z_0 + D)\n",
    "$$\n",
    "\n",
    "$$ \n",
    "t (A d_x + B d_y + C d_z) = - (A x_0 + B y_0 + C z_0 + D)\n",
    "$$\n",
    "\n",
    "Итак, находим $t$:\n",
    "$$\n",
    "t = -\\frac{A x_0 + B y_0 + C z_0 + D}{A d_x + B d_y + C d_z} = -\\frac{\\mathbf{n}\\mathbf{p} + D}{\\mathbf{n}\\mathbf{d}}\n",
    "$$"
   ]
  },
  {
   "cell_type": "code",
   "execution_count": 162,
   "id": "907ec1ac",
   "metadata": {},
   "outputs": [],
   "source": [
    "class Plane:\n",
    "    def __init__(self, A, B, C, D):\n",
    "        self.normal_vector = np.array([A, B, C])\n",
    "        self.free = D\n",
    "\n",
    "    def intersection_with_line(self, line):\n",
    "        t = -(np.dot(self.normal_vector, line.offset) + self.free) / np.dot(self.normal_vector, line.multiply)\n",
    "        return line.get_dot(t)"
   ]
  },
  {
   "cell_type": "code",
   "execution_count": 163,
   "id": "fe8e7a9e",
   "metadata": {},
   "outputs": [
    {
     "name": "stdout",
     "output_type": "stream",
     "text": [
      "[1.5 1.5 1.5]\n",
      "[10. 10. 10.]\n"
     ]
    }
   ],
   "source": [
    "# Пример \n",
    "\n",
    "l1 = Line(0, 0, 0, 1, 1, 1)\n",
    "\n",
    "l2 = Line(2, 2, 1, 1, 0, 0)\n",
    "\n",
    "l1.intersection(l2)\n",
    "\n",
    "print(l1.intersection(l2))\n",
    "\n",
    "plane = Plane(1, 0, 0, -10)\n",
    "\n",
    "print(plane.intersection_with_line(l1))"
   ]
  },
  {
   "cell_type": "code",
   "execution_count": 164,
   "id": "08bf1f7f",
   "metadata": {},
   "outputs": [],
   "source": [
    "def thin_lens_image_input_lines(\n",
    "    input_image: np.ndarray,\n",
    "    f: float,\n",
    "    a: float,\n",
    "):\n",
    "    H_in, W_in = input_image.shape[:2]\n",
    "    error = [0]\n",
    "    try:\n",
    "        b = (a * f) / (a - f)\n",
    "    except ZeroDivisionError:\n",
    "        b = 1e9 # типо бесконечность \n",
    "    \n",
    "\n",
    "    M = b / - a   # Увеличение изображение\n",
    "                # Если M > 0 то     перевернутое    действительное\n",
    "                # Если M < 0 то     прямое          мнимое\n",
    "\n",
    "    \n",
    "    output_image = np.zeros((H_out, W_out, 3), dtype=np.uint8)\n",
    "\n",
    "\n",
    "    # отдельно считаем для центра картинки \n",
    "    color = input_image[H_in // 2, W_in // 2]\n",
    "    val = (color).astype(np.uint8)\n",
    "    output_image[int(np.round(H_out / 2)), int(np.round(W_out / 2))] = val\n",
    "\n",
    "    for i_in in range(H_in):\n",
    "        for j_in in range(W_in):\n",
    "            y_in = i_in - H_in / 2\n",
    "            x_in = j_in - W_in / 2\n",
    "            # рассмотрим ход лучей в плоскости \n",
    "            #                           точка на картине\n",
    "            #                           главная оптическа ось \n",
    "\n",
    "            # луч 1 проходит через точку и центр линзы и не преломляется\n",
    "            # луч 2 проходит параллельно оптической оси линзы\n",
    "            #   и преломлятся в фокус\n",
    "\n",
    "            l1 = make_lines_two_points(np.array([0, 0, 0]), np.array([x_in, y_in, -a]))\n",
    "            l2 = make_lines_two_points(np.array([0, 0, f]), np.array([x_in, y_in, 0]))\n",
    "\n",
    "            out_point = l1.intersection(l2)\n",
    "            if out_point is None:\n",
    "                # print(\"Паралельные лучи из точки: \", i_in, j_in)\n",
    "                continue\n",
    "            error.append(out_point[2] - b)\n",
    "            \n",
    "            i_out, j_out = int(np.round(out_point[1] + H_out / 2)),  int(np.round(out_point[0] + W_out / 2))\n",
    "\n",
    "            if 0 <= i_out < H_out and 0 <= j_out < W_out:\n",
    "                color = input_image[i_in, j_in]\n",
    "\n",
    "                val = (color).astype(np.uint8)\n",
    "                output_image[i_out, j_out] = val\n",
    "    \n",
    "    return output_image, b, M, sum(error)/len(error)\n",
    "\n",
    "\n",
    "def thin_lens_image_output_lines(\n",
    "    input_image: np.ndarray,\n",
    "    f: float,\n",
    "    a: float\n",
    "):\n",
    "    H_in, W_in = input_image.shape[:2]\n",
    "    error = [0]\n",
    "    try:\n",
    "        b = (a * f) / (a - f)\n",
    "    except ZeroDivisionError:\n",
    "        b = 50 # типо бесконечность \n",
    "    \n",
    "\n",
    "    M = b / - a   # Увеличение изображение\n",
    "                # Если M > 0 то     перевернутое    действительное\n",
    "                # Если M < 0 то     прямое          мнимое\n",
    "    \n",
    "    \n",
    "    output_image = np.zeros((H_out, W_out, 3), dtype=np.uint8)\n",
    "\n",
    "    # отдельно считаем для центра картинки \n",
    "    color = input_image[H_in // 2, W_in // 2]\n",
    "    val = (color).astype(np.uint8)\n",
    "    output_image[int(np.round(H_out / 2)), int(np.round(W_out / 2))] = val\n",
    "\n",
    "    for i_out in range(H_out):\n",
    "        for j_out in range(W_out):\n",
    "            y_out = i_out - H_out / 2\n",
    "            x_out = j_out - W_out / 2\n",
    "            # рассмотрим ход лучей в плоскости \n",
    "            #                           точка на картине\n",
    "            #                           главная оптическа ось \n",
    "\n",
    "            # луч 1 проходит через точку и центр линзы и не преломляется\n",
    "            # луч 2 проходит параллельно оптической оси линзы\n",
    "            #   и преломлятся в фокус\n",
    "\n",
    "            l1 = make_lines_two_points(np.array([0, 0, 0]), np.array([x_out, y_out, b]))\n",
    "            l2 = make_lines_two_points(np.array([0, 0, -f]), np.array([x_out, y_out, 0]))\n",
    "            inp_img_plane = Plane(0, 0, 1, a) # точки на плоскости картины\n",
    "\n",
    "            in_point_1 = inp_img_plane.intersection_with_line(l1)\n",
    "            in_point_2 = inp_img_plane.intersection_with_line(l2)\n",
    "            error.append(in_point_1 - in_point_2)\n",
    "            in_point = (in_point_1 + in_point_2) / 2\n",
    "            if in_point is None:\n",
    "                # print(\"Паралельные лучи из точки: \", i_out, j_out)\n",
    "                continue\n",
    "            # error.append(in_point[2] - a)\n",
    "            \n",
    "            i_in, j_in = int(np.round(in_point[1] + H_in / 2)),  int(np.round(in_point[0] + W_in / 2))\n",
    "\n",
    "            if 0 <= i_in < H_in and 0 <= j_in < W_in:\n",
    "                color = input_image[i_in, j_in]\n",
    "\n",
    "                val = (color).astype(np.uint8)\n",
    "                output_image[i_out, j_out] = val\n",
    "    \n",
    "    return output_image, b, M, sum(error)/len(error)\n"
   ]
  },
  {
   "cell_type": "markdown",
   "id": "93827d36",
   "metadata": {},
   "source": [
    "Пропускаем нашу картинку через обычную тонкую линзу"
   ]
  },
  {
   "cell_type": "code",
   "execution_count": 165,
   "id": "fa64f5cb",
   "metadata": {},
   "outputs": [
    {
     "name": "stdout",
     "output_type": "stream",
     "text": [
      "Мнимое изображение, b=-2.667 < 0\n",
      "Увеличение M=1.333\n",
      "Ошибка в расчете координаты итоговой картинки 1 = 7.632783294297951e-17\n",
      "Ошибка в расчете координаты итоговой картинки 2 = 0.0\n"
     ]
    },
    {
     "data": {
      "text/plain": [
       "(np.float64(-0.5), np.float64(31.5), np.float64(31.5), np.float64(-0.5))"
      ]
     },
     "execution_count": 165,
     "metadata": {},
     "output_type": "execute_result"
    },
    {
     "data": {
      "image/png": "[encoded data removed]",
      "text/plain": [
       "<Figure size 1200x400 with 3 Axes>"
      ]
     },
     "metadata": {},
     "output_type": "display_data"
    }
   ],
   "source": [
    "img_in = Image.open(\"/Users/lida-os/mipt/physic/Physics-2025/M3_task/pixel_art.jpg\")\n",
    "img_in_np = np.array(img_in) \n",
    "    \n",
    "# Параметры тонкой линзы\n",
    "f_lens = 8   \n",
    "a_obj = 2\n",
    "    \n",
    "    # Запуск преобразования\n",
    "out, b_dist, M_factor, error = thin_lens_image_input_lines(\n",
    "    img_in_np, f_lens, a_obj\n",
    ")\n",
    "\n",
    "another_out, _, _, error_2 = thin_lens_image_output_lines(\n",
    "    img_in_np, f_lens, a_obj\n",
    ")\n",
    "\n",
    "if b_dist > 0:\n",
    "    print(f\"Действительное изображение, b={b_dist:.3f} > 0\")\n",
    "else:\n",
    "    print(f'Мнимое изображение, b={b_dist:.3f} < 0')\n",
    "print(f\"Увеличение M={M_factor:.3f}\")\n",
    "print(f'Ошибка в расчете координаты итоговой картинки 1 = {error}')\n",
    "print(f'Ошибка в расчете координаты итоговой картинки 2 = {np.sqrt(sum(i*i for i in list(error_2))) / len(error_2)}')\n",
    "\n",
    "img_out = Image.fromarray(out)\n",
    "img_out.save(\"/Users/lida-os/mipt/physic/Physics-2025/M3_task/output_lens.jpg\")\n",
    "\n",
    "img_out_another = Image.fromarray(another_out)\n",
    "img_out_another.save(\"/Users/lida-os/mipt/physic/Physics-2025/M3_task/output_lens_another.jpg\")\n",
    "\n",
    "fig, axs = plt.subplots(1, 3, figsize=(12, 4))\n",
    "\n",
    "axs[0].imshow(img_in_np)\n",
    "axs[0].set_title(\"Исходное изображение\")\n",
    "axs[0].axis(\"off\")\n",
    "\n",
    "axs[1].imshow(out)\n",
    "axs[1].set_title(\"Через линзу (оптика)\")\n",
    "axs[1].axis(\"off\")\n",
    "\n",
    "axs[2].imshow(np.array(another_out))\n",
    "axs[2].set_title(\"Просто масштаб\")\n",
    "axs[2].axis(\"off\")\n"
   ]
  },
  {
   "cell_type": "markdown",
   "id": "3ff591b7",
   "metadata": {},
   "source": [
    "Делаем микроскоп"
   ]
  },
  {
   "cell_type": "code",
   "execution_count": 166,
   "id": "c447e8ba",
   "metadata": {},
   "outputs": [
    {
     "name": "stdout",
     "output_type": "stream",
     "text": [
      "Действительное изображение, b=6.000 > 0\n",
      "Действительное изображение, b=50.000 > 0\n",
      "Увеличение M1=-2.000, M2=-12.500\n",
      "Ошибка в расчете координаты итоговой картинки 1 = [0.03999984 0.03999984 0.        ]\n"
     ]
    },
    {
     "data": {
      "text/plain": [
       "(np.float64(-0.5), np.float64(499.5), np.float64(499.5), np.float64(-0.5))"
      ]
     },
     "execution_count": 166,
     "metadata": {},
     "output_type": "execute_result"
    },
    {
     "data": {
      "image/png": "[encoded data removed]",
      "text/plain": [
       "<Figure size 1200x400 with 3 Axes>"
      ]
     },
     "metadata": {},
     "output_type": "display_data"
    }
   ],
   "source": [
    "f1, f2 = 2, 4\n",
    "L = 10\n",
    "a = 3\n",
    "\n",
    "# H_out = 32 # считаем осью OY\n",
    "# W_out = 32 # считаем осью OX\n",
    "\n",
    "mic_out_1, b_1, M_mic_1, error_mic = thin_lens_image_output_lines(\n",
    "    img_in_np, f1, a\n",
    ")\n",
    "\n",
    "if b_1 > 0:\n",
    "    print(f\"Действительное изображение, b={b_1:.3f} > 0\")\n",
    "else:\n",
    "    print(f'Мнимое изображение, b={b_1:.3f} < 0')\n",
    "\n",
    "\n",
    "H_out = 500 # считаем осью OY\n",
    "W_out = 500 # считаем осью OX\n",
    "\n",
    "mic_out_2, b_2, M_mic_2, error_mic = thin_lens_image_output_lines(\n",
    "    mic_out_1, f2, L-b_1\n",
    ")\n",
    "if b_2 > 0:\n",
    "    print(f\"Действительное изображение, b={b_2:.3f} > 0\")\n",
    "else:\n",
    "    print(f'Мнимое изображение, b={b_2:.3f} < 0')\n",
    "print(f\"Увеличение M1={M_mic_1:.3f}, M2={M_mic_2:.3f}\")\n",
    "print(f'Ошибка в расчете координаты итоговой картинки 1 = {error_mic}')\n",
    "\n",
    "fig, axs = plt.subplots(1, 3, figsize=(12, 4))\n",
    "\n",
    "axs[0].imshow(img_in_np)\n",
    "axs[0].set_title(\"Исходное изображение\")\n",
    "axs[0].axis(\"off\")\n",
    "\n",
    "axs[1].imshow(mic_out_1)\n",
    "axs[1].set_title(\"После микроскопа середина\")\n",
    "axs[1].axis(\"off\")\n",
    "\n",
    "axs[2].imshow(mic_out_2)\n",
    "axs[2].set_title(\"После микроскопа финал\")\n",
    "axs[2].axis(\"off\")"
   ]
  }
 ],
 "metadata": {
  "kernelspec": {
   "display_name": ".venv",
   "language": "python",
   "name": "python3"
  },
  "language_info": {
   "codemirror_mode": {
    "name": "ipython",
    "version": 3
   },
   "file_extension": ".py",
   "mimetype": "text/x-python",
   "name": "python",
   "nbconvert_exporter": "python",
   "pygments_lexer": "ipython3",
   "version": "3.13.2"
  }
 },
 "nbformat": 4,
 "nbformat_minor": 5
}
