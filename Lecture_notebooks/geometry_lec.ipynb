{
 "cells": [
  {
   "cell_type": "markdown",
   "id": "882906bb-163b-4a44-8113-f16f2fa4848a",
   "metadata": {},
   "source": [
    "# Основы геометрической оптики\n",
    "\n",
    "В модели \"геометрической оптики\" предполагается, что распространение волн происходит вдоль **лучей**. В однородной среде лучи являются *прямыми*, а при возникновении неоднородностей показателя преломления $n$, направление распространения лучей *преломляются* по закону\n",
    "$$\n",
    "n_1 \\sin \\varphi_1 = n_2 \\sin \\varphi_2,\n",
    "$$\n",
    "где $\\varphi_1$ --- угол падения из среды 1, $\\varphi_2$ --- угол преломления в среде 2 (углы измеряются относительно нормали к поверхности раздела).\n",
    "\n",
    "## Геометрическая оптика параксиальных систем\n",
    "\n",
    "Далее будем рассматривать осесимметричные оптические системы, в которых лучи света распространяются под малыми углами к *оптической оси*. Для малых углов $\\varphi\\ll 1$ закон преломления имеет вид\n",
    "$$\n",
    "n_1 \\varphi_{1} = n_2 \\varphi_{2}\n",
    "$$\n",
    "\n",
    "Если луч составляет угол $\\alpha \\ll 1$ с оптической осью, считаем выполнеными равенства\n",
    "$$\n",
    "\\mathrm{tg\\,} \\alpha \\approx \\sin \\alpha \\approx \\alpha.\n",
    "$$"
   ]
  },
  {
   "cell_type": "code",
   "execution_count": null,
   "id": "8d218f6e-c19f-4d11-9adb-c29bda040657",
   "metadata": {
    "jupyter": {
     "source_hidden": true
    }
   },
   "outputs": [],
   "source": [
    "import numpy as np\n",
    "import matplotlib.pyplot as plt\n",
    "from matplotlib.patches import Arc\n",
    "import math \n",
    "\n",
    "def plotsection(A, B, **args):\n",
    "    plt.plot([A[0], B[0]], [A[1], B[1]], **args)\n",
    "def plotdot(A, **args):\n",
    "    plt.plot([A[0]], [A[1]], linestyle='', **args)\n",
    "\n",
    "class Ray:\n",
    "    def __init__(self, x, y, slope):\n",
    "        self.x = x\n",
    "        self.y = y\n",
    "        self.slope = slope    \n",
    "\n",
    "def point(ray, s=0):\n",
    "    return (ray.x + s, \n",
    "            ray.y + s * ray.slope)\n",
    "    \n",
    "class Cell:\n",
    "    def __init__(self, x, R, n, refraction_func):\n",
    "        self.x = x\n",
    "        self.R = R\n",
    "        self.n = n\n",
    "        self.refraction_func = lambda ray: refraction_func(ray, self)\n",
    "\n",
    "    def Fi(self):\n",
    "        return self.n * self.R / (self.n - 1)\n",
    "    \n",
    "    def Fb(self):\n",
    "        return self.R / (self.n - 1)\n",
    "\n",
    "    def image(self, X0, Y0):\n",
    "        Fi = self.Fi()\n",
    "        Fb = self.Fb()\n",
    "        X0 -= self.x\n",
    "        # Положение изображения (по формуле Ньютона)\n",
    "        Xs = Fi * Fb / (-Fb - X0) + Fi \n",
    "        Ys = - Y0 * (Xs / (-X0)) * (Fb / Fi)\n",
    "        return (Xs + self.x, Ys)\n",
    "    \n",
    "    def plot(self, **args):\n",
    "        plt.gca().add_patch(Arc((self.R + self.x, 0), 2*self.R, 2*self.R, \n",
    "                                angle=90, theta1=0, theta2=180,\n",
    "                                **args))\n",
    "\n",
    "# точное решение задачи о пересечении луча и сферической поверхности    \n",
    "def cell_precise(ray, cell):    \n",
    "    result = Ray(0., 0., 0.)\n",
    "    alpha = math.atan(ray.slope)\n",
    "\n",
    "    if abs(ray.slope) < 1e-9: # луч параллелен опт. оси    \n",
    "        psi = math.asin(ray.y / cell.R)\n",
    "        result.y = ray.y\n",
    "    else:\n",
    "        Q = ray.x - ray.y / ray.slope # точка пересечения с оптической осью\n",
    "        psi = math.asin((cell.R + (cell.x - Q)) / cell.R * math.sin(alpha)) - alpha\n",
    "        result.y = cell.R * math.sin(psi)\n",
    "    result.x = cell.x + cell.R * (1 - math.cos(psi))\n",
    "    \n",
    "    # преломление\n",
    "    result.slope = math.tan(math.asin(math.sin(psi + alpha) / cell.n) - psi)\n",
    "    return [ray, result]\n",
    "\n",
    "\n",
    "# точное решение задачи о пересечении луча и плоскости\n",
    "def cell_simple(ray, cell):    \n",
    "    result = Ray(cell.x, 0., 0.)\n",
    "    alpha = math.atan(ray.slope)    \n",
    "    result.y = ray.y + (cell.x - ray.x) * ray.slope\n",
    "    psi = math.atan(result.y / cell.R)\n",
    "    result.slope = math.tan(math.asin(math.sin(psi + alpha) / cell.n) - psi)\n",
    "    return [ray, result]\n",
    "\n",
    "\n",
    "# приближенное решение задачи о пересечении луча и плоскости  (параксиальное приближение)\n",
    "def cell_paraxial(ray, cell):\n",
    "    result = Ray(cell.x, 0., 0.)\n",
    "    alpha = ray.slope    \n",
    "    result.y = ray.y + (cell.x - ray.x) * alpha\n",
    "    psi = result.y / cell.R    \n",
    "    result.slope = -(psi - ((psi + alpha) / cell.n))\n",
    "    return [ray, result]"
   ]
  },
  {
   "cell_type": "code",
   "execution_count": null,
   "id": "86ad5e2c-8c9e-45e7-a820-f2351dc45a91",
   "metadata": {
    "jupyter": {
     "source_hidden": true
    }
   },
   "outputs": [],
   "source": [
    "def plot_rays(X0, Y0, refractor, ALPHA=(-2.5, 2.5),\n",
    "                   XLIM = (-10,10), YLIM = (-5,5), NRAY=11,                    \n",
    "                   traceback=False, traceforward=False,\n",
    "                   focals=True,\n",
    "                   image=True,\n",
    "                   title=''):\n",
    "           \n",
    "    plt.figure(figsize=(10,4))\n",
    "    plt.xlim(*XLIM)\n",
    "    plt.ylim(*YLIM)\n",
    "    plt.title(title)    \n",
    "    \n",
    "    # оптическая ось\n",
    "    plt.axline((0., 0.), slope=0., ls='-.', color='k',lw=1)\n",
    "\n",
    "    # фокальные плоскости\n",
    "    if focals:\n",
    "        Fi = refractor.Fi() # фокусное расстояние пространства изображений\n",
    "        Fb = refractor.Fb() # фокусное расстояние пространства предметов\n",
    "        plt.axvline(Fi, color='r', ls='--', lw=1)\n",
    "        plt.axvline(-Fb, color='r', ls='--', lw=1)\n",
    "        plt.text(Fi+0.3, -0.7, f'$F\\'={Fi:.1f}$', fontsize='large')    \n",
    "        plt.text(-Fb+0.3, -0.7, f'$F={Fb:.1f}$', fontsize='large')\n",
    "\n",
    "    refractor.plot(color='k', lw=2)\n",
    "\n",
    "    # наклоны лучей\n",
    "    if isinstance(ALPHA, (int, float)):\n",
    "        ALPHA = (-ALPHA, ALPHA)         \n",
    "    if isinstance(ALPHA, tuple):        \n",
    "        slopes = np.tan(np.linspace(ALPHA[0] * np.pi / 180, ALPHA[1] * np.pi / 180, NRAY))    \n",
    "    else:\n",
    "        slopes = np.tan(np.array(ALPHA) * np.pi / 180)\n",
    "        \n",
    "    # построение пучка лучей\n",
    "    for alpha in slopes:\n",
    "        ray0 = Ray(X0, Y0, alpha)\n",
    "        rays = refractor.refraction_func(ray0)\n",
    "        \n",
    "        N = len(rays)        \n",
    "        if traceforward: # продолжения лучей предмета\n",
    "            plotsection(point(rays[0], 0), point(rays[1], 0), color='r', linestyle='--', lw=0.5)\n",
    "            plotsection(point(rays[0], -(-XLIM[0] + rays[0].x)), point(rays[0], -rays[0].x), color='b', linestyle='-', lw=0.5)\n",
    "        else:\n",
    "            plotsection(point(rays[0], 0), point(rays[1], 0), color='b', lw=0.5)\n",
    "        for i in range(1, N - 1):\n",
    "            plotsection(point(rays[i], 0), point(rays[i + 1], 0), color='b', lw=0.5)\n",
    "        plotsection(point(rays[-1], 0), point(rays[-1], XLIM[1]), color='b', lw=0.5)\n",
    "        if traceback: # продолжения лучей в изображения\n",
    "            plotsection(point(rays[-1], 0), point(rays[-1], -rays[-1].x + XLIM[0]), color='r', linestyle='--', lw=0.5)        \n",
    "            \n",
    "\n",
    "    plotdot((X0, Y0), color='b', marker='*', label='Предмет')\n",
    "    # расчётное положение изображения \n",
    "    if image:\n",
    "        Xs, Ys = refractor.image(X0, Y0)    \n",
    "        plotdot((Xs, Ys), color='r', marker='x', ms=8, label='Изображение (теория)')\n",
    "    \n",
    "    plt.legend()    "
   ]
  },
  {
   "cell_type": "markdown",
   "id": "7b1b70a7-81d6-4dd5-8867-8648fe2513d2",
   "metadata": {},
   "source": [
    "### Фокусирующие свойства кривых поверхностей\n",
    "\n",
    "Основой для работы всех оптических приборов является *фоксирующее* свойство криволинейной поверхности.\n",
    "\n",
    "Рассмотрим систему, разделённую на две части сферической поверхностью с радиусом кривизны $R$, пересекающей оптическую ось $x$ в точке $x=0$ (считаем $R>0$, если поверхность ориентирована выпуклостью против оси $x$). \n",
    "\n",
    "Пусть показатель преломления среды слева $n_1$, справа $n_2$. Определим *относительный показатель преломления* ячейки: $n=n_2/n_1$.\n",
    "\n",
    "#### Фокусы элементарной ячейки --- луч, параллельный оси\n",
    "\n",
    "Пустим слева направо луч, проходящий на расстоянии $y_1$ от оптической оси ($y_1\\ll R$)."
   ]
  },
  {
   "cell_type": "code",
   "execution_count": null,
   "id": "2fcabe8f-4ade-42f6-a6a6-87663cc50c51",
   "metadata": {
    "jupyter": {
     "source_hidden": true
    }
   },
   "outputs": [],
   "source": [
    "plt.figure(figsize=(6,3),dpi=150)\n",
    "plt.xlim(-4,16)\n",
    "plt.ylim(-2,4)\n",
    "\n",
    "# оптическая ось\n",
    "plt.axline((0., 0.), slope=0., ls='-.', color='k',lw=1)\n",
    "\n",
    "plt.gca().add_patch(Arc((5.0, 0), 10.0, 10.0, \n",
    "                                angle=90, theta1=0, theta2=180))\n",
    "plotsection((-10,2), (0.4,2), color='b')\n",
    "plotsection((.4,2), (5,0), color='k', ls='--')\n",
    "plotsection((.4,2), (15,0), color='b')\n",
    "plotsection((.4,2), (15,0), color='b')\n",
    "plotsection((.4,2), (15,2), color='r', ls='--')\n",
    "plotsection((.4,2), (-4,4), color='k', ls='--')\n",
    "plt.text(3.3, 0.2, '$\\\\psi$')\n",
    "plt.text(-1.2, 2.2, '$\\\\varphi_1$')\n",
    "plt.text(2.5, 1.3, '$\\\\varphi_2$')\n",
    "plt.text(4.2, 1.6, '$\\\\alpha_2$')\n",
    "plt.text(-3.8, 1.7, '$y$')\n",
    "plt.text(1.7, 0.9, '$R$')\n",
    "plt.text(5.0, -0.4, '$R$')\n",
    "plt.text(15.0, -0.4, '$f_2$')\n",
    "plt.show()"
   ]
  },
  {
   "cell_type": "markdown",
   "id": "370500b0-3227-4129-ab74-e4fc009d3d78",
   "metadata": {},
   "source": [
    "На рисунке отмечены углы: угол падения $\\varphi_1 = \\psi \\approx y_1/ R$, и по закону преломления $n\\varphi_2 \\approx \\varphi_1$, откуда $\\varphi_2 \\approx \\psi/n$. \n",
    "\n",
    "Угол преломлённого луча относительно оптической оси:\n",
    "$$\n",
    "\\alpha_2 = \\psi - \\varphi_2 = \\frac{n-1}{n} \\psi\n",
    "$$\n",
    "\n",
    "Выразим расстояние, на котором преломленный луч пересечёт оптическую ось:\n",
    "$$\n",
    "\\boxed{f_2 = \\frac{y}{\\mathrm{tg\\,} \\alpha_2} \\approx \\frac{n_2 R}{n_2-n_1} = \\frac{n R}{n-1}.}\n",
    "$$\n",
    "Видим, что расстояние $f_2$ *не зависит от $y$*, то есть *параллельный пучок* лучей с любыми $y_1$ соберётся в одной точке $F_2$. Расстояние $f_2$ называют *передним фокусным расстоянием* оптической ячейки.\n",
    "\n",
    "Пустим такой же пучок лучей, параллельных отпической оси, но в обратном направлении. Они соберутся в точке $F_1$, находящейся от точки $O$ на расстоянии \n",
    "$$\n",
    "\\boxed{f_1 = \\frac{n_1 R}{n_2-n_1} = \\frac{R}{n-1}.}\n",
    "$$\n",
    "Это расстояние называют *задним фокусным расстоянием* оптической ячейки.\n",
    "\n",
    "Заметим, что для применимости выводов выше (и ниже) важно, чтобы луч проходил вблизи оптической оси, то есть должен быть мал угол $\\psi \\ll 1$."
   ]
  },
  {
   "cell_type": "code",
   "execution_count": null,
   "id": "70f7d179-28b6-440e-a5bd-3cf3e0671ee1",
   "metadata": {
    "jupyter": {
     "source_hidden": true
    }
   },
   "outputs": [],
   "source": [
    "plot_rays(-1000.0, 0.0, \n",
    "          Cell(0., R=5.0, n=1.5, refraction_func=cell_paraxial),\n",
    "          ALPHA=0.1, NRAY=10, XLIM =(-18,40), YLIM=(-3,3),\n",
    "          traceback=False,          \n",
    "          title='Фокусировка параллельного пучка из пространства предметов')\n",
    "plt.show()\n",
    "plot_rays(-10.0, 0.0, \n",
    "          Cell(0., R=5.0, n=1.5, refraction_func=cell_paraxial),\n",
    "          ALPHA=10., NRAY=10, XLIM =(-18,40), YLIM=(-3,3),\n",
    "          traceback=False,  image=False,        \n",
    "          title='Фокусировка параллельного пучка из пространства изображений')\n",
    "plt.show()"
   ]
  },
  {
   "cell_type": "markdown",
   "id": "89f62027-df7f-449f-97b3-ccb88b26dd3a",
   "metadata": {},
   "source": [
    "#### Фокальные плоскости --- наклонный луч\n",
    "\n",
    "Рассмотрим параллельный пучок лучей, идущих под углом $\\alpha_1$ к оптической оси (сперва -- слева направо).\n",
    "\n",
    "Пусть некоторый луч пересекает границу ячейки на высоте $y_1$, $\\psi\\approx y_1/R$. Повторяя построение, аналогично \n",
    "находим: $\\varphi_1 = \\psi + \\alpha_1$, $\\varphi_2 = \\varphi_1 /n$, и\n",
    "$$\n",
    "\\alpha_2 = \\psi - \\varphi_2 = \\frac{n-1}{n}\\psi - \\frac{\\alpha_1}{n} = \\frac{y_1}{f_2} - \\frac{\\alpha_1}{n}\n",
    "$$\n",
    "Замечаем, что смещение луча по оси $y$ на расстоянии $f_2$, равное\n",
    "$\n",
    "\\Delta y = y_1 - \\alpha_2 f_2 = \\frac{\\alpha_1}{n},\n",
    "$\n",
    "не зависит от $y_1$. Следовательно, все лучи пучка соберутся\n",
    "в одной точке с координатами $(x_2, y_2)$,\n",
    "где \n",
    "$$\n",
    "x_2 = f_2\n",
    "$$\n",
    "и\n",
    "$$\n",
    "y_2 \\approx \\alpha_1 f_2 / n.\n",
    "$$\n",
    "\n",
    "Все возможные такие точки пересечения при любых $\\alpha_1$ образую *фокальную плоскость пространства изображений*.\n",
    "\n",
    "Если рассмотреть пучки, идущие в обратную сторону, они будут фокусироваться в *фокальной плоскости пространства предметов*, находящейся на расстоянии $f_1$ от начала отсчёта."
   ]
  },
  {
   "cell_type": "code",
   "execution_count": null,
   "id": "b4d36fb9-f05c-421c-90b5-6913a559ea0c",
   "metadata": {
    "jupyter": {
     "source_hidden": true
    }
   },
   "outputs": [],
   "source": [
    "plot_rays(-1000.0, -100.0, \n",
    "          Cell(0., R=5.0, n=1.5, refraction_func=cell_paraxial),\n",
    "          ALPHA=(5.65,5.81), NRAY=10, XLIM =(-18,40), YLIM=(-3,3),\n",
    "          traceback=False,          \n",
    "          title='Фокусировка наклонного пучка из пространства предметов')\n",
    "plt.show()\n",
    "plot_rays(-10.0, 1.0, \n",
    "          Cell(0., R=5.0, n=1.5, refraction_func=cell_paraxial),\n",
    "          ALPHA=10., NRAY=10, XLIM =(-18,40), YLIM=(-3,3),\n",
    "          traceback=False,  image=False,        \n",
    "          title='Фокусировка наклонного пучка из пространства изображений')\n",
    "plt.show()"
   ]
  },
  {
   "cell_type": "markdown",
   "id": "7378e70d-853c-446a-90dc-ba964423bbe6",
   "metadata": {},
   "source": [
    "#### Изображение предмета в оптической ячейке\n",
    "\n",
    "Рассмотрим светяющуюся точку $S_1$ с координатами $(x_1,y_1)$, находящуюся слева от границы ($x_1 < 0$). Точку $S_1$ будем называть *предметом*.\n",
    "\n",
    "Можно доказать (например, прямым построением) следующие два важнейших утверждения, справедливые для параксиальных лучей (и только для них!):\n",
    "1) Пучок параксиальных лучей, выходящих из $S_1$, соберётся в некоторой точке $S_2$, которую называют *изображением*.\n",
    "2) Множеству точек $S_1$, лежащих в некоторой плоскости, *перпендикулярной* оптической оси, будут соответствовать изображения $S_2$, также находящиеся в одной плоскости, перпендикулярной оптической оси.\n",
    "\n",
    "\n",
    "Если точка $S_2$ лежит в области $x>0$, то есть является *реальной* точкой персечения лучей, то такое изображение называют *действительным*. Действительное изображение можно увидеть, двумя способами: 1) если поставить в месте пересечения лучей непрозрачный *экран*, 2) если расположить глаз за точкой $S_2$ (так, чтобы в глаз попадали проложения расходящихся из точки $S_2$ лучей).\n",
    "\n",
    "Если точка $S_2$ лежит в области $x<0$, то есть пересекаются *продолжения* лучей, то такое изображение называют *мнимым*. Мнимое изображение можно увидеть непосредственно глазом.\n",
    "\n"
   ]
  },
  {
   "cell_type": "code",
   "execution_count": null,
   "id": "8c2ec1f1-afcb-4e95-9de8-0ba2e7a1a670",
   "metadata": {
    "jupyter": {
     "source_hidden": true
    }
   },
   "outputs": [],
   "source": [
    "plot_rays(-17.0, 0.25, \n",
    "          Cell(0., 5.0, 1.5, refraction_func=cell_precise), \n",
    "          ALPHA=2, NRAY=11, XLIM =(-18,40), YLIM=(-2.5,2.5),          \n",
    "          title='Действительное изображение точки в параксиальных лучах')\n",
    "plt.show()\n",
    "plot_rays(-5, 0.5, \n",
    "          Cell(0., 5.0, 1.5, refraction_func=cell_precise),\n",
    "          ALPHA=5, NRAY=11, XLIM =(-18,40), YLIM=(-2.5,2.5), \n",
    "          traceback=True,          \n",
    "          title='Мнимое изображение точки в параксиальных лучах')\n",
    "plt.show()"
   ]
  },
  {
   "cell_type": "markdown",
   "id": "76bcb15e-5c48-4a7c-9def-074588717b2c",
   "metadata": {},
   "source": [
    "Возможно также рассмотрение ситуации, когда *предмет* является *мнимым*: это означает, что на границу слева падают лучи, продолжения которых сходятся в некоторой точке с координатой $x>0$."
   ]
  },
  {
   "cell_type": "code",
   "execution_count": null,
   "id": "809b3c39-c889-44c5-9fb4-9b8f7cdab505",
   "metadata": {
    "jupyter": {
     "source_hidden": true
    }
   },
   "outputs": [],
   "source": [
    "plot_rays(14, 0.5, \n",
    "          Cell(0., 5.0, 1.5, refraction_func=cell_precise),\n",
    "          ALPHA=2, NRAY=11, XLIM =(-18,40), YLIM=(-2.5,2.5), \n",
    "          traceback=False, traceforward=True,         \n",
    "          title='Действительное изображение мнимого предмета')\n",
    "plt.show()"
   ]
  },
  {
   "cell_type": "markdown",
   "id": "d4b7a662-92c6-425f-92e1-46e784c44b7b",
   "metadata": {},
   "source": [
    "Если лучи сильно не параксиальны или предмет расположен слишком далеко от оптической оси, продолжения лучей **не будут** сходиться в одну точку.\n",
    "\n",
    "Такие отклонения реальных лучей от законов параксиальной оптики называют **геометрическими аберрациями**."
   ]
  },
  {
   "cell_type": "code",
   "execution_count": null,
   "id": "c7accd69-425b-4618-a53d-87fcf80afa0e",
   "metadata": {
    "jupyter": {
     "source_hidden": true
    }
   },
   "outputs": [],
   "source": [
    "plot_rays(-17.0,1.0, Cell(0., 5.0, 1.5, refraction_func=cell_precise),\n",
    "          ALPHA=10, NRAY=31, XLIM =(-18,40), YLIM=(-5,5),\n",
    "          traceback=False,          \n",
    "          title='Отсутствие чёткого изображения точки в НЕ параксиальных лучах')\n",
    "plt.show()"
   ]
  },
  {
   "cell_type": "markdown",
   "id": "051e4e20-72de-4459-b3f7-aa59c92c0e06",
   "metadata": {},
   "source": [
    "### Формулы для нахождения положения изображения\n",
    "\n",
    "Поскольку все параксиальные лучи, исходящие из предмета, собираются в одной точке, для нахождения положения изображения достаточно рассмотреть ход только *двух* лучей. Наиболее удобны для рассмотрения любые два из следующих трёх лучей:\n",
    "* луч, параллельный оптической оси --- его продолжение пройдет через фокус пространства изображений\n",
    "* луч, проходящий через фокус пространства предметов --- он выйдет параллельно оптической оси\n",
    "* луч, проходящий через начало координат --- он преломится на угол $\\alpha_2 = \\alpha_1 / n$"
   ]
  },
  {
   "cell_type": "code",
   "execution_count": null,
   "id": "144e5bb4-9536-454e-8f60-e91272b50ec5",
   "metadata": {
    "jupyter": {
     "source_hidden": true
    }
   },
   "outputs": [],
   "source": [
    "plot_rays(-17.0, 0.5, \n",
    "          Cell(0., 5.0, 1.5, refraction_func=cell_paraxial), \n",
    "          ALPHA=[0, -1.7, -4], XLIM =(-18,40), YLIM=(-1.5,1.5),          \n",
    "          title='Действительное изображение точки в параксиальных лучах')\n",
    "plt.text(0.5,0.55,'$y_1$')\n",
    "plt.text(0.5,-0.85,'$y_2$')\n",
    "plt.text(-17.5,-0.2,'$-x_1$')\n",
    "plt.text(36,-0.2,'$x_2$')\n",
    "plt.text(5,-1.2,'$n$')\n",
    "plt.show()"
   ]
  },
  {
   "cell_type": "markdown",
   "id": "ea81cc70-a1ee-4fe4-bdf0-91bfe3e0d5d3",
   "metadata": {},
   "source": [
    "Пусть координаты предмета $S_1(-x_1, y_1)$, изображения $S_2(x_2, y_2)$ (для удобства считаем, что если предмет действительный, то $x_1>0$). Фокусные расстояния ячейки равны $f_1$ и $f_2$,\n",
    "координаты фокусов: $F_1(-f_1,0)$, $F_2(f_2,0)$.\n",
    "\n",
    "Из закона преломления центрального луча получим *формулу увеличения*:\n",
    "$$\n",
    "\\boxed{\\Gamma \\equiv \\frac{y_2}{y_1} = -\\frac{1}{n}\\frac{x_2}{x_1}}.\n",
    "$$\n",
    "Она показывет, во сколько раз каждая точка удаляется от оптической оси.\n",
    "Отрицательное значение $\\Gamma$ означает, что изображение *перевёрнутое*.\n",
    "\n",
    "Из подобия треугольников также имеем\n",
    "$$\n",
    "\\frac{y_1}{f_2} = \\frac{-y_2}{x_2 - f_2}\\qquad \\text{и} \\qquad\n",
    "\\frac{-y_2}{f_1} = \\frac{y_1}{x_1-f_1}.\n",
    "$$\n",
    "Исключая $y_1/y_2$, найдём:\n",
    "$$\n",
    "\\boxed{(x_1 - f_1) (x_2 - f_2) = f_1 f_2}.\n",
    "$$\n",
    "Эту формулу назвают *формулой Ньютона*. \n",
    "\n",
    "Раскроем в формуле Ньютона скобки (тогда сократится слагаемое $f_1f_2$) и поделим результат на $x_1x_2$. Получим ещё одну формулу, которую удобно использовать при расчётах:\n",
    "$$\n",
    "\\boxed{\\frac{f_1}{x_1}+\\frac{f_2}{x_2}=1}.\n",
    "$$"
   ]
  },
  {
   "cell_type": "markdown",
   "id": "f3e67c81-9458-40f3-94ee-4ac58b27707d",
   "metadata": {},
   "source": [
    "## Тонкая линза\n",
    "\n",
    "Тонка линза --- это две элементарные ячейки, расположенные в одной точке.\n",
    "\n",
    "Рассмотрим для примера двояковыпуклую линзу. Путь радиусы кривизны поверхностей линз равны $R_1>0$ и $R_2>0$, а показатель преломления материала линзы $n$ (показатель преломления окружающего воздуха 1). Тогда имеем две последовательные элементарные ячейки: первая с радиусом кривизны $R_1$ и относительным показателем преломления $n$, а вторая --- с радиусом кривизны $-R_2$ (\"смотрит\" в другую сторону) и обратным относительным показателем преломления $1/n$.\n",
    "\n",
    "Пусть расстояние от линзы до предмета равно $a$, а от линзы до изображения $b$. Тогда с учётом формул для фокусных расстояний на первой поверхности имеем\n",
    "$$\n",
    "\\frac{R_1/(n-1)}{a}+\\frac{nR_1/(n-1)}{x^{\\star}}=1,\n",
    "$$\n",
    "где $x^{\\star}$ --- положение промежуточного изображения \"внутри\" линзы. А на второй:\n",
    "$$\n",
    "\\frac{-nR_2/(n-1)}{-x^{\\star}}+\\frac{-R_2/(n-1)}{b}=1.\n",
    "$$\n",
    "Поделим первое на $R_1$, второе на $R_2$ и вычтем одно из другого. Получим известную *формулу тонкой линзы*:\n",
    "$$\n",
    "\\boxed{\\frac{1}{a} + \\frac{1}{b} = \\frac{1}{f},}\n",
    "$$\n",
    "где мы ввели обозначение для фокусного расстояние тонкой линзы:\n",
    "$$\n",
    "\\frac{1}{f} = (n-1)\\left(\\frac{1}{R_1} + \\frac{1}{R_2} \\right).\n",
    "$$\n",
    "Формула Ньютона для линзы:\n",
    "$$\n",
    "(a-f)(b-f)=f^2.\n",
    "$$\n",
    "Линейное увеличение линзы:\n",
    "$$\n",
    "\\boxed{\\Gamma = -\\frac{b}{a} = -\\frac{b - f}{f} = -\\frac{f}{a - f}}.\n",
    "$$\n",
    "\n",
    "Если $f>0$, линза называется *положительной* или *собирающей*. Если $f<0$ --- *отрицательной* или *рассеивающей*.\n",
    "* Если предмет находится дальше фокуса $a>f$, собирающая линза даёт *действительное* ($b>0$) и *перевёрнутое* ($y_2<0$) изображение. При $f<a<2f$ изображение *увеличено* ($|y_2/y_1|>1$), при $a>2f$ --- *уменьшено* ($|y_2/y_1|<1$).\n",
    "* Если предмет находится ближе фокуса $a<f$, собирающая линза даёт *мнимое* ($b<0$), *прямое* ($y_2>0$) и *увеличенное* изображение.\n",
    "* Рассеивающая линза *всегда* даёт *мнимое*, *прямое* и *уменьшенное* изображение.\n",
    "\n",
    "### Лупа\n",
    "Положительная линза, через которую рассматривают глазом мнимое увеличенное изображение предмета, называется *лупой*. Для максимального увеличения предмет нужно помещать чуть ближе точки фокуса лупы ($a<f$).\n",
    "\n",
    "Глазом удобно рассматривать предметы, находящиеся на *расстоянии наилучшего зрения* $L_{зр}$ (обычно считается, что при нормальной остроте зрения $L=25$ см). Если расположить глаз вплотную к лупе, то наиболее удобное положение изображения будет равно $b=-L$. Поэтому увеличение лупы равно\n",
    "$$\n",
    "\\Gamma_{л} = \\frac{L_{зр}}{a} = \\frac{L_{зр}}{f} + 1.\n",
    "$$\n",
    "\n",
    "#### Аккомодация глаза на бесконечность, угловое увеличение\n",
    "Разместим предмет точно в фокус лупы. Тогда формально и расстояние до изображения и его линейные размеры окажутся *бесконечными*. Однако конечным останется их *отношение*.\n",
    "Пусть $\\alpha = y / x$ --- угол, под которым виден предмет или его изображение из центра линзы.\n",
    "Определим *угловое увеличение* как линзы\n",
    "$$\n",
    "\\gamma = \\frac{\\alpha_2}{\\alpha_1}.\n",
    "$$\n",
    "\n",
    "Для лупы имеем: если рассматривать предмет на расстоянии наилучешго зрения от глаза, то его угловой размер $\\alpha_1 = y_1/L$. Поместим между предметом и глазом лупу так, чтобы предмет оказался в её фокусе лупы ($a=f$). Тогда угловой размер изображения будет равен $\\alpha_2 = y_1/f$, и, следовательно увеличение лупы:\n",
    "$$\n",
    "\\gamma_л = \\frac{L_{зр}}{f}.\n",
    "$$"
   ]
  },
  {
   "cell_type": "code",
   "execution_count": null,
   "id": "c3a5310b-38ef-41db-afa6-cc7f0f5561f7",
   "metadata": {
    "jupyter": {
     "source_hidden": true
    }
   },
   "outputs": [],
   "source": [
    "class Lens:\n",
    "    def __init__(self, X0, R1, R2, n, H, cell_func=cell_precise, D=1.0):                \n",
    "        self.first = Cell(X0 - H/2, R1, n, cell_func)\n",
    "        self.second = Cell(X0 + H/2, R2, 1/n, cell_func)        \n",
    "        self.cell_func = cell_func\n",
    "        self.x = X0\n",
    "        self.H = H\n",
    "        self.D = D\n",
    "\n",
    "    def Fi(self):\n",
    "        return 1 / ((self.first.n - 1) * ( 1 / self.first.R - 1 / self.second.R))\n",
    "    \n",
    "    def Fb(self):\n",
    "        return self.Fi()\n",
    "        \n",
    "    def H(self):\n",
    "        return self.second.x - self.first.x\n",
    "\n",
    "    def plot(self, **args):\n",
    "        if self.H == 0:\n",
    "            plt.arrow(self.x, 0, 0, self.D/2, width=0.1)\n",
    "            plt.arrow(self.x, 0, 0, -self.D/2, width=0.1)\n",
    "        else:            \n",
    "            self.first.plot(**args)\n",
    "            self.second.plot(**args)            \n",
    "\n",
    "    def image(self, X0, Y0):        \n",
    "        return self.second.image(*self.first.image(X0, Y0))\n",
    "        \n",
    "    def refraction_func(self, ray):\n",
    "        ray1 = self.cell_func(ray, self.first)[1]\n",
    "        result = self.cell_func(ray1, self.second)[1]\n",
    "        return [ray, ray1, result]"
   ]
  },
  {
   "cell_type": "code",
   "execution_count": null,
   "id": "205c92e4-e856-430d-a0f6-3c2f16edcd92",
   "metadata": {
    "jupyter": {
     "source_hidden": true
    }
   },
   "outputs": [],
   "source": [
    "plot_rays(-7.5, 0.1, Lens(0., 5, -5, 1.5, 0.5, cell_precise),\n",
    "          ALPHA=2, NRAY=11, XLIM =(-10,20), YLIM=(-1.,1.),          \n",
    "          title='Действительное увеличенное изображение в собирающей тонкой линзе')\n",
    "plt.show()\n",
    "plot_rays(-3.5, 0.1, Lens(0., 5, -5, 1.5, 0.5, cell_precise),\n",
    "          ALPHA=2, NRAY=11, XLIM =(-15,10), YLIM=(-1.,1.),\n",
    "          traceback=True,\n",
    "          title='Мнимое увеличенное изображение в собирающей тонкой линзе')\n",
    "plt.show()\n",
    "plot_rays(-6.0, 0.25, Lens(0., -5, 5, 1.5, 0.5, cell_precise),\n",
    "          ALPHA=2, NRAY=11, XLIM =(-15,10), YLIM=(-1.,1.),\n",
    "          traceback=True,\n",
    "          title='Мнимое уменьшенное изображение в рассеивающей тонкой линзе')\n",
    "plt.show()"
   ]
  },
  {
   "cell_type": "markdown",
   "id": "9d19c189-177b-4876-896d-dbe0b97ab6bf",
   "metadata": {},
   "source": [
    "## Микроскоп"
   ]
  },
  {
   "cell_type": "markdown",
   "id": "0d130225-6a90-4227-a0a1-716a725274a7",
   "metadata": {},
   "source": [
    "Микроскоп --- это *две* линзы (объектив и окуляр), расположенные на некотором расстоянии друг от друга.\n",
    "\n",
    "Чтобы микроскоп давал увеличенное изображение, объектив должен быть собирающей линзой. Окуляр может быть как рассивающим, так и собирающим.\n",
    "\n",
    "Пусть $L$ --- растояние между объективом и окуляром. Обычно $L\\gg f_{об},f_{ок}$. \n",
    "\n",
    "Изучаемый предмет помещают вблизи фокуса объектива, чуть дальше от него ($a > f_{об}$). Расстояние $a$ подбирается таким образом, чтобы промежуточное изображение оказалось точно в фокальной плоскости окуляра ($b^{\\star} = L - f_{ок}$ и $a^{\\star} = f_{ок}$). Далее окуляр используется как *лупа* для рассматривания изображения.\n",
    "\n",
    "Увеличение микроскопа есть *произведение* увеличений объектива и окуляра.\n",
    "\n",
    "Тогда для объектива:\n",
    "$$\n",
    "\\gamma_{об} = \\frac{L-f_{ок}}{f_{об}} \\approx \\frac{L}{f_{об}}\n",
    "$$\n",
    "для окуляра:\n",
    "$$\n",
    "\\gamma_{ок} = \\frac{L_{зр}}{f_{ок}}\n",
    "$$\n",
    "Итого угловое увеличение микроскопа (с учётом сделанных приближений):\n",
    "$$\n",
    "\\gamma_{микро} = \\gamma_{об}\\gamma_{ок} \\approx \\frac{L L_{зр}}{f_{об}f_{ок}}.\n",
    "$$\n",
    "\n",
    "Если сместить окуляр чуть ближе к объективу, увеличенное финальное изображение можно переместить на расстояние наилучшего зрения. Тогда нетрудно получить формулу линейного увеличения:\n",
    "$$\n",
    "\\Gamma^{наил.зр.}_{микро} = \\frac{L-f_{ок}}{f_{об}} \\frac{L_{зр}-f_{ок}}{f_{ок}}\n",
    "$$\n",
    "\n",
    "Если, наоборот, немного отодвинуть окуляр, то финальное изображение станет *действительным* и его можно будет спроецировать на экран (получится *проекционный микроскоп*). Если $L_{эк}$ --- расстояние от окуляра до экрана, то можно найти\n",
    "$$\n",
    "\\Gamma^{проекц.}_{микро} = \\frac{L-f_{ок}}{f_{об}} \\frac{L_{эк}+f_{ок}}{f_{ок}}\n",
    "$$"
   ]
  },
  {
   "cell_type": "code",
   "execution_count": null,
   "id": "0306ffd5-00d0-469e-a562-504783e5f1f1",
   "metadata": {
    "jupyter": {
     "source_hidden": true
    }
   },
   "outputs": [],
   "source": [
    "class Microscope:\n",
    "    def __init__(self, L, f1, f2, H=0, cell_func=cell_precise, D=1.0):\n",
    "        self.objective = Lens(0., f1, -f1, 1.5, H, cell_func, D)\n",
    "        self.ocular = Lens(L, f2, -f2, 1.5, H, cell_func, D)              \n",
    "\n",
    "    def plot(self, **args):\n",
    "        self.objective.plot(**args)\n",
    "        self.ocular.plot(**args)\n",
    "        \n",
    "    def image(self, X0, Y0):\n",
    "        return self.ocular.image(*self.objective.image(X0, Y0))\n",
    "        \n",
    "    def refraction_func(self, ray):\n",
    "        rays1 = self.objective.refraction_func(ray)\n",
    "        rays2 = self.ocular.refraction_func(rays1[-1])\n",
    "        return rays1 + rays2[1:]\n",
    "\n",
    "TUBE = 11.8\n",
    "M = Microscope(TUBE, 2.0, 2.0, 0.0, cell_paraxial, D=1.0)\n",
    "plot_rays(-2.5, 0.01, M,\n",
    "          ALPHA=10, NRAY=21, XLIM =(-7,20), YLIM=(-0.75,0.75),   \n",
    "          traceback=True, focals=False,\n",
    "          title='Изображение в микроскопе')\n",
    "plt.axvline(M.objective.Fi(), color='r', ls='--', lw=1)\n",
    "plt.axvline(-M.objective.Fi(), color='r', ls='--', lw=1)\n",
    "plt.axvline(M.ocular.Fi() + TUBE, color='r', ls='--', lw=1)\n",
    "plt.axvline(-M.ocular.Fi() + TUBE, color='r', ls='--', lw=1)\n",
    "plt.show()"
   ]
  },
  {
   "cell_type": "markdown",
   "id": "59f5da05-72f2-4e2c-9180-b1b9293362b0",
   "metadata": {},
   "source": [
    "## Телескоп / подзорная труба\n",
    "\n",
    "*Телескопической* называтеся оптическая система, которая параллельные пучки лучей преобразует в параллельные. Простейший телескоп также состоит из двух линз --- объектива и окуляра. При этом передний фокус объектива должен *совпадать* с задним фокусом окуляра (расстояние между линзами $L=f_{об}+f_{ок}$).\n",
    "\n",
    "Телескоп (поздорная труба) предназначена для рассматривания удалённых объектов ($a_{об}\\gg f_{об}$). Поэтому промежуточное изображение будет находиться практически в фокальной плоскости объектива ($b_{об} \\approx f_{об}$). Это изображение рассматривается в окуляр как в лупу ($a_{ок} \\approx f_{ок}$).\n",
    "\n",
    "Как видно из рисунка ниже, *угловое увеличение* подзорной трубы, настроенной на бесконечность:\n",
    "$$\n",
    "\\gamma_{теле} =  \\frac{f_{об}}{f_{ок}} .\n",
    "$$\n",
    "Подзорная труба увеличивает, если $f_{об} > f_{ок}$ (и во столько же раз уменьшает, если смотреть через неё с обратной стороны).\n",
    "\n",
    "Подзорную трубу с двумя собирающими линзами называют *трубой Кеплера*. Если в качестве окуляра использовать рассеивающую линзу (*труба Галилея*) с тем же по модулю фокусным расстоянием $-f_{ок}$, то при сохранении увеличения можно существенно уменьшить длину трубы ($L = f_{об} - f_{ок}$)."
   ]
  },
  {
   "cell_type": "code",
   "execution_count": null,
   "id": "1335faad-a001-4fd4-a3a0-bf696bec4973",
   "metadata": {
    "jupyter": {
     "source_hidden": true
    }
   },
   "outputs": [],
   "source": [
    "TUBE = 4\n",
    "M = Microscope(TUBE, 3.0, 1.0, 0, cell_paraxial, D=2.0)\n",
    "plot_rays(-1000, -100, M,\n",
    "          ALPHA=(5.65,5.77), NRAY=15, XLIM =(-7,10), YLIM=(-3,3),   \n",
    "          traceback=True, focals=False,\n",
    "          title='Изображение удалённого предмета в телескопе')\n",
    "plt.axvline(M.objective.Fi(), color='r', ls='--', lw=1)\n",
    "plt.axvline(-M.objective.Fi(), color='r', ls='--', lw=1)\n",
    "plt.axvline(M.ocular.Fi() + TUBE, color='r', ls='--', lw=1)\n",
    "plt.axvline(-M.ocular.Fi() + TUBE, color='r', ls='--', lw=1)\n",
    "plt.text(1.5,-1, '$f_{об}$')\n",
    "plt.text(3.2,-1, '$f_{ок}$')\n",
    "plt.show()"
   ]
  },
  {
   "cell_type": "markdown",
   "id": "33a5951e-01fe-4670-9c98-923bae741272",
   "metadata": {},
   "source": [
    "Для наблюдения *не слишком* далёких объектов можно незначительно изменять расстояние между фокусами объектива и окуляра (раздвижные подзорные трубы).\n",
    "\n",
    "Интересно, что *линейное* увеличение подзорной трубы меньше единицы (!). Применяя последовательно найденные выше формулы увеличения линз, можно получить:\n",
    "$$\n",
    "\\Gamma_{теле} = \\frac{L-f_{об}}{f_{об}} \\frac{f_{ок}}{L-f_{об}} = \\frac{f_{ок}}{f_{об}} = \\frac{1}{\\gamma_{теле}}\n",
    "$$\n",
    "То есть подзорная труба *уменьшает* предметы, приближая их."
   ]
  },
  {
   "cell_type": "code",
   "execution_count": null,
   "id": "1a9cb1d8-9541-4b7b-ad01-bcfd65ddc1ac",
   "metadata": {
    "jupyter": {
     "source_hidden": true
    }
   },
   "outputs": [],
   "source": [
    "TUBE = 4\n",
    "M = Microscope(TUBE, 3.0, 1.0, 0, cell_paraxial, D=2.0)\n",
    "plot_rays(-100, -1, M,\n",
    "          ALPHA=(0,1), NRAY=15, XLIM =(-100,20), YLIM=(-3,3),   \n",
    "          traceback=True, focals=False,\n",
    "          title='Уменьшенное и приближенное изображение в подзорной трубе')\n",
    "plt.axvline(M.objective.Fi(), color='r', ls='--', lw=1)\n",
    "plt.axvline(-M.objective.Fi(), color='r', ls='--', lw=1)\n",
    "plt.axvline(M.ocular.Fi() + TUBE, color='r', ls='--', lw=1)\n",
    "plt.axvline(-M.ocular.Fi() + TUBE, color='r', ls='--', lw=1)\n",
    "plt.show()"
   ]
  },
  {
   "cell_type": "code",
   "execution_count": null,
   "id": "4a56d736-639a-4678-b525-07d5cb5af739",
   "metadata": {
    "jupyter": {
     "source_hidden": true
    }
   },
   "outputs": [],
   "source": []
  }
 ],
 "metadata": {
  "kernelspec": {
   "display_name": "Python 3 (ipykernel)",
   "language": "python",
   "name": "python3"
  },
  "language_info": {
   "codemirror_mode": {
    "name": "ipython",
    "version": 3
   },
   "file_extension": ".py",
   "mimetype": "text/x-python",
   "name": "python",
   "nbconvert_exporter": "python",
   "pygments_lexer": "ipython3",
   "version": "3.13.1"
  }
 },
 "nbformat": 4,
 "nbformat_minor": 5
}
